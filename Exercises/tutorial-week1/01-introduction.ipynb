{
 "cells": [
  {
   "cell_type": "markdown",
   "metadata": {},
   "source": [
    "# Lab 1: Introduction to OpenCV"
   ]
  },
  {
   "cell_type": "markdown",
   "metadata": {},
   "source": [
    "The goal of this first lab is to present a small introduction to image processing using OpenCV. In each section, you can find:\n",
    "* a small example - analyse the code and try it\n",
    "* some exercises"
   ]
  },
  {
   "cell_type": "code",
   "execution_count": 1,
   "metadata": {},
   "outputs": [
    {
     "name": "stdout",
     "output_type": "stream",
     "text": [
      "Requirement already satisfied: opencv-python in c:\\users\\ppmpf\\appdata\\local\\packages\\pythonsoftwarefoundation.python.3.11_qbz5n2kfra8p0\\localcache\\local-packages\\python311\\site-packages (4.9.0.80)\n",
      "Requirement already satisfied: numpy>=1.21.2 in c:\\users\\ppmpf\\appdata\\local\\packages\\pythonsoftwarefoundation.python.3.11_qbz5n2kfra8p0\\localcache\\local-packages\\python311\\site-packages (from opencv-python) (1.26.3)\n"
     ]
    },
    {
     "name": "stderr",
     "output_type": "stream",
     "text": [
      "\n",
      "[notice] A new release of pip is available: 23.3.2 -> 24.0\n",
      "[notice] To update, run: C:\\Users\\ppmpf\\AppData\\Local\\Microsoft\\WindowsApps\\PythonSoftwareFoundation.Python.3.11_qbz5n2kfra8p0\\python.exe -m pip install --upgrade pip\n"
     ]
    },
    {
     "name": "stdout",
     "output_type": "stream",
     "text": [
      "Requirement already satisfied: numpy in c:\\users\\ppmpf\\appdata\\local\\packages\\pythonsoftwarefoundation.python.3.11_qbz5n2kfra8p0\\localcache\\local-packages\\python311\\site-packages (1.26.3)\n"
     ]
    },
    {
     "name": "stderr",
     "output_type": "stream",
     "text": [
      "\n",
      "[notice] A new release of pip is available: 23.3.2 -> 24.0\n",
      "[notice] To update, run: C:\\Users\\ppmpf\\AppData\\Local\\Microsoft\\WindowsApps\\PythonSoftwareFoundation.Python.3.11_qbz5n2kfra8p0\\python.exe -m pip install --upgrade pip\n"
     ]
    }
   ],
   "source": [
    "# Requirements for this tutorial\n",
    "! pip install opencv-python\n",
    "! pip install numpy"
   ]
  },
  {
   "cell_type": "code",
   "execution_count": 2,
   "metadata": {},
   "outputs": [],
   "source": [
    "# If you prefer, you can convert this notebook to a Python script by uncommenting the following command\n",
    "# ! pip install nbconvert\n",
    "# ! jupyter nbconvert --to script 01-introduction.ipynb"
   ]
  },
  {
   "cell_type": "code",
   "execution_count": 3,
   "metadata": {},
   "outputs": [],
   "source": [
    "import cv2\n",
    "import numpy as np\n",
    "import os\n",
    "\n",
    "dataDir = './data'"
   ]
  },
  {
   "cell_type": "markdown",
   "metadata": {},
   "source": [
    "### 1. Images – read, write and display; ROIs"
   ]
  },
  {
   "cell_type": "code",
   "execution_count": 4,
   "metadata": {},
   "outputs": [],
   "source": [
    "# Opening an image\n",
    "img = cv2.imread(os.path.join(dataDir, 'ml.jpg'))\n",
    "\n",
    "# Showing the image\n",
    "cv2.imshow(\"ml.jpg\", img)\n",
    "\n",
    "# Waiting for user to press a key to close the image\n",
    "cv2.waitKey(0)\n",
    "\n",
    "# Close the window after user pressed a key\n",
    "cv2.destroyWindow(\"ml.jpg\")"
   ]
  },
  {
   "cell_type": "code",
   "execution_count": 5,
   "metadata": {},
   "outputs": [
    {
     "name": "stdout",
     "output_type": "stream",
     "text": [
      "height: 380\n",
      "width: 308\n",
      "channels: 3\n"
     ]
    }
   ],
   "source": [
    "# Check image size\n",
    "h, w, c = img.shape\n",
    "print(f'height: {h}')\n",
    "print(f'width: {w}')\n",
    "print(f'channels: {c}')"
   ]
  },
  {
   "cell_type": "code",
   "execution_count": 6,
   "metadata": {},
   "outputs": [
    {
     "data": {
      "text/plain": [
       "True"
      ]
     },
     "execution_count": 6,
     "metadata": {},
     "output_type": "execute_result"
    }
   ],
   "source": [
    "# Saving image in bmp format\n",
    "cv2.imwrite('ml_new.bmp', img)"
   ]
  },
  {
   "cell_type": "markdown",
   "metadata": {},
   "source": [
    "Exercise 1.1 - Read any other color image from a file, show the mouse cursor over the image, and the coordinates and RGB components of the pixel under the cursor. When the user clicks on the mouse, let him modify the RGB components of the selected pixel."
   ]
  },
  {
   "cell_type": "code",
   "execution_count": 7,
   "metadata": {},
   "outputs": [
    {
     "name": "stdout",
     "output_type": "stream",
     "text": [
      "x: 203, y: 345\n",
      "RGB: [255 255 255]\n",
      "x: 203, y: 315\n",
      "RGB: [123 171 147]\n",
      "x: 203, y: 295\n",
      "RGB: [108 169 135]\n",
      "x: 203, y: 277\n",
      "RGB: [123 155 138]\n",
      "x: 203, y: 265\n",
      "RGB: [167 169 169]\n",
      "x: 203, y: 257\n",
      "RGB: [165 167 167]\n",
      "x: 204, y: 252\n",
      "RGB: [170 172 172]\n",
      "x: 204, y: 250\n",
      "RGB: [93 95 95]\n",
      "x: 204, y: 247\n",
      "RGB: [78 80 80]\n",
      "x: 204, y: 245\n",
      "RGB: [59 61 61]\n",
      "x: 204, y: 242\n",
      "RGB: [165 167 167]\n",
      "x: 204, y: 241\n",
      "RGB: [177 179 179]\n",
      "x: 204, y: 239\n",
      "RGB: [184 189 188]\n",
      "x: 204, y: 235\n",
      "RGB: [151 160 157]\n",
      "x: 204, y: 231\n",
      "RGB: [113 133 121]\n",
      "x: 204, y: 229\n",
      "RGB: [50 76 60]\n",
      "x: 204, y: 224\n",
      "RGB: [112 148 126]\n",
      "x: 204, y: 216\n",
      "RGB: [ 68 105  85]\n",
      "x: 202, y: 201\n",
      "RGB: [238 255 248]\n",
      "x: 198, y: 188\n",
      "RGB: [255 255 255]\n",
      "x: 195, y: 176\n",
      "RGB: [255 255 255]\n",
      "x: 190, y: 165\n",
      "RGB: [255 255 255]\n",
      "x: 189, y: 160\n",
      "RGB: [255 255 255]\n",
      "x: 188, y: 158\n",
      "RGB: [255 255 255]\n",
      "x: 187, y: 156\n",
      "RGB: [255 255 255]\n",
      "x: 186, y: 154\n",
      "RGB: [255 255 255]\n",
      "x: 186, y: 154\n",
      "RGB: [255   0   0]\n",
      "x: 186, y: 156\n",
      "RGB: [255 255 255]\n",
      "x: 186, y: 161\n",
      "RGB: [255 255 255]\n",
      "x: 186, y: 168\n",
      "RGB: [255 255 255]\n",
      "x: 189, y: 173\n",
      "RGB: [255 255 255]\n",
      "x: 192, y: 181\n",
      "RGB: [255 255 255]\n",
      "x: 195, y: 189\n",
      "RGB: [255 255 255]\n",
      "x: 203, y: 208\n",
      "RGB: [116 163 137]\n",
      "x: 211, y: 222\n",
      "RGB: [255 255 255]\n",
      "x: 218, y: 237\n",
      "RGB: [255 255 255]\n",
      "x: 225, y: 245\n",
      "RGB: [253 255 255]\n",
      "x: 228, y: 249\n",
      "RGB: [162 164 165]\n",
      "x: 229, y: 249\n",
      "RGB: [133 135 136]\n",
      "x: 227, y: 249\n",
      "RGB: [182 184 185]\n",
      "x: 226, y: 249\n",
      "RGB: [180 182 183]\n"
     ]
    }
   ],
   "source": [
    "# Opening an image\n",
    "img = cv2.imread(os.path.join(dataDir, 'ml.jpg'))\n",
    "\n",
    "# Define the function to paint the coordinates\n",
    "\n",
    "def paint_coordinates(event, x, y, flags, params):\n",
    "    if event == cv2.EVENT_MOUSEMOVE:\n",
    "        print(f'x: {x}, y: {y}')\n",
    "        print(f'RGB: {img[y] [x]}')\n",
    "\n",
    "    # Modify color of pixel when clicking on it\n",
    "    if event == cv2.EVENT_LBUTTONDOWN:\n",
    "        img[y][x] = [255, 0, 0]\n",
    "\n",
    "# Define window\n",
    "cv2.namedWindow(\"image_window\", cv2.WINDOW_NORMAL)\n",
    "\n",
    "cv2.setMouseCallback(\"image_window\", paint_coordinates)\n",
    "\n",
    "while(True):\n",
    "    cv2.imshow(\"image_window\", img)\n",
    "    if cv2.waitKey(2) == ord('q'):\n",
    "        break\n",
    "\n",
    "# Show the image\n",
    "cv2.imshow(\"image_window\", img)\n",
    "\n",
    "# Waiting for user to press a key to close the image\n",
    "cv2.waitKey(1)\n",
    "\n",
    "# Close the window after user pressed a key\n",
    "cv2.destroyWindow(\"image_window\")"
   ]
  },
  {
   "cell_type": "markdown",
   "metadata": {},
   "source": [
    "Exercise 1.2 - Allow the user to select a region of interest (ROI) in the image, by clicking on two points that identify two opposite corners of the selected ROI, and save the ROI into another file."
   ]
  },
  {
   "cell_type": "code",
   "execution_count": 8,
   "metadata": {},
   "outputs": [],
   "source": [
    "# Open image\n",
    "img = cv2.imread(os.path.join(dataDir, 'ml.jpg'))\n",
    "\n",
    "# Select a region of interest, using selectROI\n",
    "r = cv2.selectROI(img)\n",
    "\n",
    "cv2.destroyAllWindows()\n",
    "\n",
    "# Crop image\n",
    "\n",
    "x = int(r[0])\n",
    "y = int(r[1])\n",
    "w = int(r[2])\n",
    "h = int(r[3])\n",
    "\n",
    "img_roi = img[y:y+h, x:x+w]\n",
    "\n",
    "cv2.imshow(\"Image\", img_roi)\n",
    "\n",
    "# Save ROI into another file\n",
    "cv2.imwrite(\"ml_roi.jpg\", img_roi)\n",
    "\n",
    "# Waiting for user to press a key to close the image\n",
    "cv2.waitKey(0)\n",
    "\n",
    "# Close the window after user pressed a key\n",
    "cv2.destroyWindow(\"Image\")"
   ]
  },
  {
   "cell_type": "markdown",
   "metadata": {},
   "source": [
    "### 2. Images – representation, grayscale and color, color spaces"
   ]
  },
  {
   "cell_type": "code",
   "execution_count": 9,
   "metadata": {},
   "outputs": [],
   "source": [
    "# Create a white image\n",
    "m = np.ones((100,200,1), np.uint8)\n",
    "\n",
    "# Change the intensity to 100\n",
    "m = m * 100\n",
    "\n",
    "# Display the image\n",
    "cv2.imshow('Grayscale image', m)\n",
    "cv2.waitKey(0)\n",
    "cv2.destroyWindow('Grayscale image')"
   ]
  },
  {
   "cell_type": "code",
   "execution_count": 10,
   "metadata": {},
   "outputs": [],
   "source": [
    "# Draw a line with thickness of 5 px\n",
    "cv2.line(m, (0,0), (200,100), 255, 5)\n",
    "cv2.line(m, (200, 0), (0, 100), 255, 5)\n",
    "cv2.imshow('Grayscale image with diagonals', m)\n",
    "cv2.waitKey(0)\n",
    "cv2.destroyWindow('Grayscale image with diagonals')"
   ]
  },
  {
   "cell_type": "markdown",
   "metadata": {},
   "source": [
    "Exercise 2.1 - Create a color image with 100(lines)x200(columns) pixels with yellow color; draw the two diagonals of the image, one in red color, the other in blue color. Display the image."
   ]
  },
  {
   "cell_type": "code",
   "execution_count": 11,
   "metadata": {},
   "outputs": [],
   "source": [
    "# Create a yellow image\n",
    "m = np.ones((100,200,3), np.uint8)\n",
    "\n",
    "# Change the colour to yellow\n",
    "m[:,:,0] = 0\n",
    "m[:,:,1:] = 255\n",
    "\n",
    "# Draw a red line with thickness of 5 px\n",
    "cv2.line(m, (0,0), (200,100), (0, 0, 255), 5)\n",
    "\n",
    "# Draw a blue line with thickness of 5 px\n",
    "cv2.line(m, (200, 0), (0, 100), (255, 0, 0), 5)\n",
    "\n",
    "# Display the image\n",
    "cv2.imshow('Colour image with diagonals', m)\n",
    "cv2.waitKey(0)\n",
    "cv2.destroyWindow('Colour image with diagonals')"
   ]
  },
  {
   "cell_type": "markdown",
   "metadata": {},
   "source": [
    "Exercise 2.2 - Read any color image, in RGB format, display it in one window, convert it to grayscale, display the grayscale image in another window and save the grayscale image to a different file"
   ]
  },
  {
   "cell_type": "code",
   "execution_count": 12,
   "metadata": {},
   "outputs": [],
   "source": [
    "# Read an image\n",
    "img = cv2.imread(os.path.join(dataDir, 'ml.jpg'))\n",
    "\n",
    "# Display the image in one window\n",
    "cv2.imshow('Image', img)\n",
    "\n",
    "# Wait for a key to be pressed\n",
    "cv2.waitKey(0)\n",
    "\n",
    "# Close all windows\n",
    "cv2.destroyAllWindows()\n",
    "\n",
    "# Convert the image to grayscale\n",
    "gray = cv2.cvtColor(img, cv2.COLOR_BGR2GRAY)\n",
    "\n",
    "# Display the grayscale image in another window\n",
    "cv2.imshow('Grayscale image', gray)\n",
    "\n",
    "# Wait for a key to be pressed\n",
    "cv2.waitKey(0)\n",
    "\n",
    "# Save the grayscale image\n",
    "cv2.imwrite('ml_gray.jpg', gray)\n",
    "\n",
    "# Close all windows\n",
    "cv2.destroyAllWindows()"
   ]
  },
  {
   "cell_type": "markdown",
   "metadata": {},
   "source": [
    "Exercise 2.3 - Split the 3 RGB channels and show each channel in a separate window. Add a constant value to one of the channels, merge the channels into a new color image and show the resulting image."
   ]
  },
  {
   "cell_type": "code",
   "execution_count": 13,
   "metadata": {},
   "outputs": [],
   "source": [
    "# Opening an image\n",
    "img = cv2.imread(os.path.join(dataDir, \"ml.jpg\"))\n",
    "\n",
    "r = img.copy()\n",
    "r[:, :, 0] = r[:, :, 1] = 0\n",
    "\n",
    "g = img.copy()\n",
    "g[:, :, 0] = g[:, :, 2] = 0\n",
    "\n",
    "b = img.copy()\n",
    "b[:, :, 1] = b[:, :, 2] = 0\n",
    "\n",
    "# Display each channel in a different window\n",
    "cv2.imshow(\"red\", r)\n",
    "cv2.imshow(\"green\", g)\n",
    "cv2.imshow(\"blue\", b)\n",
    "\n",
    "cv2.waitKey(0)\n",
    "cv2.destroyAllWindows()\n",
    "\n",
    "b,g,r = cv2.split(img)\n",
    "\n",
    "# Add a constant value to the red channel\n",
    "r_modified = r + 10\n",
    "\n",
    "# Clip the values to be between 0 and 255\n",
    "r_modified = np.clip(r_modified, 0, 255).astype(np.uint8)\n",
    "\n",
    "# Merge the channels\n",
    "new_img = cv2.merge((b, g, r_modified))\n",
    "\n",
    "# Display the new image\n",
    "cv2.imshow('Image', new_img)\n",
    "\n",
    "cv2.waitKey(0)\n",
    "cv2.destroyAllWindows()"
   ]
  },
  {
   "cell_type": "markdown",
   "metadata": {},
   "source": [
    "Exercise 2.4 - Convert the image to HSV, split the 3 HSV channels and show each channel in a separate window. Add a constant value to saturation channel, merge the channels into a new color image and show the resulting image."
   ]
  },
  {
   "cell_type": "code",
   "execution_count": 14,
   "metadata": {},
   "outputs": [],
   "source": [
    "# Read an image\n",
    "img = cv2.imread(os.path.join(dataDir, 'ml.jpg'))\n",
    "\n",
    "# Convert the image to HSV\n",
    "hsv = cv2.cvtColor(img, cv2.COLOR_BGR2HSV)\n",
    "\n",
    "# Split the converted image into its channels\n",
    "h, s, v = cv2.split(hsv)\n",
    "\n",
    "# Display the channels in different windows\n",
    "cv2.imshow('Hue', h)\n",
    "cv2.imshow('Saturation', s)\n",
    "cv2.imshow('Value', v)\n",
    "\n",
    "cv2.waitKey(0)\n",
    "cv2.destroyAllWindows()\n",
    "\n",
    "# Add a constant value to the saturation channel\n",
    "s_modified = s + 10\n",
    "\n",
    "# Clip the values to be between 0 and 255\n",
    "s_modified = np.clip(s_modified, 0, 255).astype(np.uint8)\n",
    "\n",
    "# Merge the channels\n",
    "new_hsv = cv2.merge((h, s_modified, v))\n",
    "\n",
    "# Display the new image\n",
    "new_img = cv2.cvtColor(new_hsv, cv2.COLOR_HSV2BGR)\n",
    "cv2.imshow('Image', new_img)\n",
    "\n",
    "cv2.waitKey(0)\n",
    "cv2.destroyAllWindows()"
   ]
  },
  {
   "cell_type": "markdown",
   "metadata": {},
   "source": [
    "### 3. Video – acquisition and simple processing"
   ]
  },
  {
   "cell_type": "code",
   "execution_count": 15,
   "metadata": {},
   "outputs": [
    {
     "name": "stdout",
     "output_type": "stream",
     "text": [
      "Cannot open camera\n",
      "Can't receive frame (stream end?). Exiting ...\n"
     ]
    }
   ],
   "source": [
    "# Define a VideoCapture Object\n",
    "cap = cv2.VideoCapture(0)\n",
    "if not cap.isOpened():\n",
    "    print(\"Cannot open camera\")\n",
    "    exit()\n",
    "\n",
    "frame_nr = 0\n",
    "while True:\n",
    "    # Capture frame-by-frame\n",
    "    ret, frame = cap.read()\n",
    "    \n",
    "    # If frame is read correctly ret is True\n",
    "    if not ret:\n",
    "        print(\"Can't receive frame (stream end?). Exiting ...\")\n",
    "        break\n",
    "\n",
    "    # Display the resulting frame\n",
    "    cv2.imshow('webcam', frame)\n",
    "\n",
    "    # Wait for user to press s to save frame\n",
    "    if cv2.waitKey(1) == ord('s'):\n",
    "        frame_name = 'frame' + str(frame_nr) + '.png'\n",
    "        cv2.imwrite(frame_name, frame)\n",
    "        cv2.imshow(\"Saved frame: \" + frame_name, frame)\n",
    "        cv2.waitKey(0)\n",
    "        cv2.destroyWindow(\"Saved frame: \" + frame_name)\n",
    "\n",
    "    # Wait for user to press q to quit\n",
    "    if cv2.waitKey(1) == ord('q'):\n",
    "        break\n",
    "\n",
    "    frame_nr += 1\n",
    "\n",
    "# When everything is done, release the capture\n",
    "cap.release()\n",
    "cv2.destroyAllWindows()"
   ]
  },
  {
   "cell_type": "markdown",
   "metadata": {},
   "source": [
    "Exercise 3.1 - Using the previous example as the baseline, implement a script that acquires the video from the webcam, converts it to grayscale, and shows the frames in binary format (i.e. the intensity of each pixel is 0 or 255); use a threshold value of 128."
   ]
  },
  {
   "cell_type": "code",
   "execution_count": 16,
   "metadata": {},
   "outputs": [],
   "source": [
    "# TODO"
   ]
  },
  {
   "cell_type": "markdown",
   "metadata": {},
   "source": [
    "Exercise 3.2 - Implement a simple detection/tracking algorithm for colored objects, using the following steps:\n",
    "1) take each frame of the video;\n",
    "2) convert from BGR to HSV color-space;\n",
    "3) threshold the HSV image for a range of color values (creating a binary image);\n",
    "4) extract the objects of the selected range (with a bitwise AND operation, using as operands the original and the binary image)."
   ]
  },
  {
   "cell_type": "code",
   "execution_count": 17,
   "metadata": {},
   "outputs": [
    {
     "ename": "",
     "evalue": "",
     "output_type": "error",
     "traceback": [
      "\u001b[1;31mThe Kernel crashed while executing code in the current cell or a previous cell. \n",
      "\u001b[1;31mPlease review the code in the cell(s) to identify a possible cause of the failure. \n",
      "\u001b[1;31mClick <a href='https://aka.ms/vscodeJupyterKernelCrash'>here</a> for more info. \n",
      "\u001b[1;31mView Jupyter <a href='command:jupyter.viewOutput'>log</a> for further details."
     ]
    }
   ],
   "source": [
    "# TODO"
   ]
  }
 ],
 "metadata": {
  "kernelspec": {
   "display_name": "Python 3 (ipykernel)",
   "language": "python",
   "name": "python3"
  },
  "language_info": {
   "codemirror_mode": {
    "name": "ipython",
    "version": 3
   },
   "file_extension": ".py",
   "mimetype": "text/x-python",
   "name": "python",
   "nbconvert_exporter": "python",
   "pygments_lexer": "ipython3",
   "version": "3.11.8"
  }
 },
 "nbformat": 4,
 "nbformat_minor": 4
}
